{
  "cells": [
    {
      "cell_type": "code",
      "execution_count": 1,
      "metadata": {
        "id": "LeQfJ_Xtl6DE"
      },
      "outputs": [],
      "source": [
        "import numpy as np\n",
        "import pandas as pd\n",
        "import matplotlib.pyplot as plt\n",
        "%matplotlib inline\n"
      ]
    },
    {
      "cell_type": "code",
      "execution_count": 2,
      "metadata": {
        "colab": {
          "base_uri": "https://localhost:8080/",
          "height": 206
        },
        "id": "ayeMSEaFXpyz",
        "outputId": "27a80375-26de-485f-99e3-c2baf6663550"
      },
      "outputs": [
        {
          "data": {
            "text/html": [
              "<div>\n",
              "<style scoped>\n",
              "    .dataframe tbody tr th:only-of-type {\n",
              "        vertical-align: middle;\n",
              "    }\n",
              "\n",
              "    .dataframe tbody tr th {\n",
              "        vertical-align: top;\n",
              "    }\n",
              "\n",
              "    .dataframe thead th {\n",
              "        text-align: right;\n",
              "    }\n",
              "</style>\n",
              "<table border=\"1\" class=\"dataframe\">\n",
              "  <thead>\n",
              "    <tr style=\"text-align: right;\">\n",
              "      <th></th>\n",
              "      <th>emotion</th>\n",
              "      <th>pixels</th>\n",
              "      <th>Usage</th>\n",
              "    </tr>\n",
              "  </thead>\n",
              "  <tbody>\n",
              "    <tr>\n",
              "      <th>0</th>\n",
              "      <td>0</td>\n",
              "      <td>70 80 82 72 58 58 60 63 54 58 60 48 89 115 121...</td>\n",
              "      <td>Training</td>\n",
              "    </tr>\n",
              "    <tr>\n",
              "      <th>1</th>\n",
              "      <td>0</td>\n",
              "      <td>151 150 147 155 148 133 111 140 170 174 182 15...</td>\n",
              "      <td>Training</td>\n",
              "    </tr>\n",
              "    <tr>\n",
              "      <th>2</th>\n",
              "      <td>2</td>\n",
              "      <td>231 212 156 164 174 138 161 173 182 200 106 38...</td>\n",
              "      <td>Training</td>\n",
              "    </tr>\n",
              "    <tr>\n",
              "      <th>3</th>\n",
              "      <td>4</td>\n",
              "      <td>24 32 36 30 32 23 19 20 30 41 21 22 32 34 21 1...</td>\n",
              "      <td>Training</td>\n",
              "    </tr>\n",
              "    <tr>\n",
              "      <th>4</th>\n",
              "      <td>6</td>\n",
              "      <td>4 0 0 0 0 0 0 0 0 0 0 0 3 15 23 28 48 50 58 84...</td>\n",
              "      <td>Training</td>\n",
              "    </tr>\n",
              "  </tbody>\n",
              "</table>\n",
              "</div>"
            ],
            "text/plain": [
              "   emotion                                             pixels     Usage\n",
              "0        0  70 80 82 72 58 58 60 63 54 58 60 48 89 115 121...  Training\n",
              "1        0  151 150 147 155 148 133 111 140 170 174 182 15...  Training\n",
              "2        2  231 212 156 164 174 138 161 173 182 200 106 38...  Training\n",
              "3        4  24 32 36 30 32 23 19 20 30 41 21 22 32 34 21 1...  Training\n",
              "4        6  4 0 0 0 0 0 0 0 0 0 0 0 3 15 23 28 48 50 58 84...  Training"
            ]
          },
          "execution_count": 2,
          "metadata": {},
          "output_type": "execute_result"
        }
      ],
      "source": [
        "data = pd.read_csv(\"fer2013.csv\")\n",
        "data.head()"
      ]
    },
    {
      "cell_type": "code",
      "execution_count": null,
      "metadata": {
        "id": "xp8NPcLHl6DJ"
      },
      "outputs": [],
      "source": [
        "emotions = ['Angry', 'Disgust', 'Fear', 'Happy', 'Sad', 'Surprise', 'Neutral']\n",
        "data = data.rename(columns={\"emotion\":\"label\",\"pixels\":\"image\"})"
      ]
    },
    {
      "cell_type": "code",
      "execution_count": null,
      "metadata": {
        "colab": {
          "base_uri": "https://localhost:8080/",
          "height": 424
        },
        "id": "L9Z1RW29Yj8q",
        "outputId": "c191f2bf-c08f-441a-f075-22d6b48df218"
      },
      "outputs": [
        {
          "data": {
            "text/html": [
              "\n",
              "  <div id=\"df-301e283a-9a99-4f11-9e9b-3022ceb53329\">\n",
              "    <div class=\"colab-df-container\">\n",
              "      <div>\n",
              "<style scoped>\n",
              "    .dataframe tbody tr th:only-of-type {\n",
              "        vertical-align: middle;\n",
              "    }\n",
              "\n",
              "    .dataframe tbody tr th {\n",
              "        vertical-align: top;\n",
              "    }\n",
              "\n",
              "    .dataframe thead th {\n",
              "        text-align: right;\n",
              "    }\n",
              "</style>\n",
              "<table border=\"1\" class=\"dataframe\">\n",
              "  <thead>\n",
              "    <tr style=\"text-align: right;\">\n",
              "      <th></th>\n",
              "      <th>label</th>\n",
              "      <th>image</th>\n",
              "      <th>Usage</th>\n",
              "      <th>emotion</th>\n",
              "    </tr>\n",
              "  </thead>\n",
              "  <tbody>\n",
              "    <tr>\n",
              "      <th>0</th>\n",
              "      <td>0</td>\n",
              "      <td>70 80 82 72 58 58 60 63 54 58 60 48 89 115 121...</td>\n",
              "      <td>Training</td>\n",
              "      <td>Angry</td>\n",
              "    </tr>\n",
              "    <tr>\n",
              "      <th>1</th>\n",
              "      <td>0</td>\n",
              "      <td>151 150 147 155 148 133 111 140 170 174 182 15...</td>\n",
              "      <td>Training</td>\n",
              "      <td>Angry</td>\n",
              "    </tr>\n",
              "    <tr>\n",
              "      <th>2</th>\n",
              "      <td>2</td>\n",
              "      <td>231 212 156 164 174 138 161 173 182 200 106 38...</td>\n",
              "      <td>Training</td>\n",
              "      <td>Fear</td>\n",
              "    </tr>\n",
              "    <tr>\n",
              "      <th>3</th>\n",
              "      <td>4</td>\n",
              "      <td>24 32 36 30 32 23 19 20 30 41 21 22 32 34 21 1...</td>\n",
              "      <td>Training</td>\n",
              "      <td>Sad</td>\n",
              "    </tr>\n",
              "    <tr>\n",
              "      <th>4</th>\n",
              "      <td>6</td>\n",
              "      <td>4 0 0 0 0 0 0 0 0 0 0 0 3 15 23 28 48 50 58 84...</td>\n",
              "      <td>Training</td>\n",
              "      <td>Neutral</td>\n",
              "    </tr>\n",
              "    <tr>\n",
              "      <th>...</th>\n",
              "      <td>...</td>\n",
              "      <td>...</td>\n",
              "      <td>...</td>\n",
              "      <td>...</td>\n",
              "    </tr>\n",
              "    <tr>\n",
              "      <th>35882</th>\n",
              "      <td>6</td>\n",
              "      <td>50 36 17 22 23 29 33 39 34 37 37 37 39 43 48 5...</td>\n",
              "      <td>PrivateTest</td>\n",
              "      <td>Neutral</td>\n",
              "    </tr>\n",
              "    <tr>\n",
              "      <th>35883</th>\n",
              "      <td>3</td>\n",
              "      <td>178 174 172 173 181 188 191 194 196 199 200 20...</td>\n",
              "      <td>PrivateTest</td>\n",
              "      <td>Happy</td>\n",
              "    </tr>\n",
              "    <tr>\n",
              "      <th>35884</th>\n",
              "      <td>0</td>\n",
              "      <td>17 17 16 23 28 22 19 17 25 26 20 24 31 19 27 9...</td>\n",
              "      <td>PrivateTest</td>\n",
              "      <td>Angry</td>\n",
              "    </tr>\n",
              "    <tr>\n",
              "      <th>35885</th>\n",
              "      <td>3</td>\n",
              "      <td>30 28 28 29 31 30 42 68 79 81 77 67 67 71 63 6...</td>\n",
              "      <td>PrivateTest</td>\n",
              "      <td>Happy</td>\n",
              "    </tr>\n",
              "    <tr>\n",
              "      <th>35886</th>\n",
              "      <td>2</td>\n",
              "      <td>19 13 14 12 13 16 21 33 50 57 71 84 97 108 122...</td>\n",
              "      <td>PrivateTest</td>\n",
              "      <td>Fear</td>\n",
              "    </tr>\n",
              "  </tbody>\n",
              "</table>\n",
              "<p>35887 rows × 4 columns</p>\n",
              "</div>\n",
              "      <button class=\"colab-df-convert\" onclick=\"convertToInteractive('df-301e283a-9a99-4f11-9e9b-3022ceb53329')\"\n",
              "              title=\"Convert this dataframe to an interactive table.\"\n",
              "              style=\"display:none;\">\n",
              "        \n",
              "  <svg xmlns=\"http://www.w3.org/2000/svg\" height=\"24px\"viewBox=\"0 0 24 24\"\n",
              "       width=\"24px\">\n",
              "    <path d=\"M0 0h24v24H0V0z\" fill=\"none\"/>\n",
              "    <path d=\"M18.56 5.44l.94 2.06.94-2.06 2.06-.94-2.06-.94-.94-2.06-.94 2.06-2.06.94zm-11 1L8.5 8.5l.94-2.06 2.06-.94-2.06-.94L8.5 2.5l-.94 2.06-2.06.94zm10 10l.94 2.06.94-2.06 2.06-.94-2.06-.94-.94-2.06-.94 2.06-2.06.94z\"/><path d=\"M17.41 7.96l-1.37-1.37c-.4-.4-.92-.59-1.43-.59-.52 0-1.04.2-1.43.59L10.3 9.45l-7.72 7.72c-.78.78-.78 2.05 0 2.83L4 21.41c.39.39.9.59 1.41.59.51 0 1.02-.2 1.41-.59l7.78-7.78 2.81-2.81c.8-.78.8-2.07 0-2.86zM5.41 20L4 18.59l7.72-7.72 1.47 1.35L5.41 20z\"/>\n",
              "  </svg>\n",
              "      </button>\n",
              "      \n",
              "  <style>\n",
              "    .colab-df-container {\n",
              "      display:flex;\n",
              "      flex-wrap:wrap;\n",
              "      gap: 12px;\n",
              "    }\n",
              "\n",
              "    .colab-df-convert {\n",
              "      background-color: #E8F0FE;\n",
              "      border: none;\n",
              "      border-radius: 50%;\n",
              "      cursor: pointer;\n",
              "      display: none;\n",
              "      fill: #1967D2;\n",
              "      height: 32px;\n",
              "      padding: 0 0 0 0;\n",
              "      width: 32px;\n",
              "    }\n",
              "\n",
              "    .colab-df-convert:hover {\n",
              "      background-color: #E2EBFA;\n",
              "      box-shadow: 0px 1px 2px rgba(60, 64, 67, 0.3), 0px 1px 3px 1px rgba(60, 64, 67, 0.15);\n",
              "      fill: #174EA6;\n",
              "    }\n",
              "\n",
              "    [theme=dark] .colab-df-convert {\n",
              "      background-color: #3B4455;\n",
              "      fill: #D2E3FC;\n",
              "    }\n",
              "\n",
              "    [theme=dark] .colab-df-convert:hover {\n",
              "      background-color: #434B5C;\n",
              "      box-shadow: 0px 1px 3px 1px rgba(0, 0, 0, 0.15);\n",
              "      filter: drop-shadow(0px 1px 2px rgba(0, 0, 0, 0.3));\n",
              "      fill: #FFFFFF;\n",
              "    }\n",
              "  </style>\n",
              "\n",
              "      <script>\n",
              "        const buttonEl =\n",
              "          document.querySelector('#df-301e283a-9a99-4f11-9e9b-3022ceb53329 button.colab-df-convert');\n",
              "        buttonEl.style.display =\n",
              "          google.colab.kernel.accessAllowed ? 'block' : 'none';\n",
              "\n",
              "        async function convertToInteractive(key) {\n",
              "          const element = document.querySelector('#df-301e283a-9a99-4f11-9e9b-3022ceb53329');\n",
              "          const dataTable =\n",
              "            await google.colab.kernel.invokeFunction('convertToInteractive',\n",
              "                                                     [key], {});\n",
              "          if (!dataTable) return;\n",
              "\n",
              "          const docLinkHtml = 'Like what you see? Visit the ' +\n",
              "            '<a target=\"_blank\" href=https://colab.research.google.com/notebooks/data_table.ipynb>data table notebook</a>'\n",
              "            + ' to learn more about interactive tables.';\n",
              "          element.innerHTML = '';\n",
              "          dataTable['output_type'] = 'display_data';\n",
              "          await google.colab.output.renderOutput(dataTable, element);\n",
              "          const docLink = document.createElement('div');\n",
              "          docLink.innerHTML = docLinkHtml;\n",
              "          element.appendChild(docLink);\n",
              "        }\n",
              "      </script>\n",
              "    </div>\n",
              "  </div>\n",
              "  "
            ],
            "text/plain": [
              "       label                                              image        Usage  \\\n",
              "0          0  70 80 82 72 58 58 60 63 54 58 60 48 89 115 121...     Training   \n",
              "1          0  151 150 147 155 148 133 111 140 170 174 182 15...     Training   \n",
              "2          2  231 212 156 164 174 138 161 173 182 200 106 38...     Training   \n",
              "3          4  24 32 36 30 32 23 19 20 30 41 21 22 32 34 21 1...     Training   \n",
              "4          6  4 0 0 0 0 0 0 0 0 0 0 0 3 15 23 28 48 50 58 84...     Training   \n",
              "...      ...                                                ...          ...   \n",
              "35882      6  50 36 17 22 23 29 33 39 34 37 37 37 39 43 48 5...  PrivateTest   \n",
              "35883      3  178 174 172 173 181 188 191 194 196 199 200 20...  PrivateTest   \n",
              "35884      0  17 17 16 23 28 22 19 17 25 26 20 24 31 19 27 9...  PrivateTest   \n",
              "35885      3  30 28 28 29 31 30 42 68 79 81 77 67 67 71 63 6...  PrivateTest   \n",
              "35886      2  19 13 14 12 13 16 21 33 50 57 71 84 97 108 122...  PrivateTest   \n",
              "\n",
              "       emotion  \n",
              "0        Angry  \n",
              "1        Angry  \n",
              "2         Fear  \n",
              "3          Sad  \n",
              "4      Neutral  \n",
              "...        ...  \n",
              "35882  Neutral  \n",
              "35883    Happy  \n",
              "35884    Angry  \n",
              "35885    Happy  \n",
              "35886     Fear  \n",
              "\n",
              "[35887 rows x 4 columns]"
            ]
          },
          "execution_count": 10,
          "metadata": {},
          "output_type": "execute_result"
        }
      ],
      "source": [
        "data['emotion'] = data['label'].apply(lambda x: emotions[int(x)])\n",
        "data"
      ]
    },
    {
      "cell_type": "code",
      "execution_count": null,
      "metadata": {
        "id": "LLu7iQq1Yoh0"
      },
      "outputs": [],
      "source": [
        "data.drop(columns=['Usage'],inplace=True)"
      ]
    },
    {
      "cell_type": "code",
      "execution_count": null,
      "metadata": {
        "colab": {
          "base_uri": "https://localhost:8080/",
          "height": 424
        },
        "id": "CuDQrLaFYswu",
        "outputId": "abf638e0-aca9-456d-a317-d32f16bc3385"
      },
      "outputs": [
        {
          "data": {
            "text/html": [
              "\n",
              "  <div id=\"df-0e310f55-41c3-4e49-83b4-9d53ef1c5935\">\n",
              "    <div class=\"colab-df-container\">\n",
              "      <div>\n",
              "<style scoped>\n",
              "    .dataframe tbody tr th:only-of-type {\n",
              "        vertical-align: middle;\n",
              "    }\n",
              "\n",
              "    .dataframe tbody tr th {\n",
              "        vertical-align: top;\n",
              "    }\n",
              "\n",
              "    .dataframe thead th {\n",
              "        text-align: right;\n",
              "    }\n",
              "</style>\n",
              "<table border=\"1\" class=\"dataframe\">\n",
              "  <thead>\n",
              "    <tr style=\"text-align: right;\">\n",
              "      <th></th>\n",
              "      <th>label</th>\n",
              "      <th>image</th>\n",
              "      <th>emotion</th>\n",
              "    </tr>\n",
              "  </thead>\n",
              "  <tbody>\n",
              "    <tr>\n",
              "      <th>0</th>\n",
              "      <td>0</td>\n",
              "      <td>70 80 82 72 58 58 60 63 54 58 60 48 89 115 121...</td>\n",
              "      <td>Angry</td>\n",
              "    </tr>\n",
              "    <tr>\n",
              "      <th>1</th>\n",
              "      <td>0</td>\n",
              "      <td>151 150 147 155 148 133 111 140 170 174 182 15...</td>\n",
              "      <td>Angry</td>\n",
              "    </tr>\n",
              "    <tr>\n",
              "      <th>2</th>\n",
              "      <td>2</td>\n",
              "      <td>231 212 156 164 174 138 161 173 182 200 106 38...</td>\n",
              "      <td>Fear</td>\n",
              "    </tr>\n",
              "    <tr>\n",
              "      <th>3</th>\n",
              "      <td>4</td>\n",
              "      <td>24 32 36 30 32 23 19 20 30 41 21 22 32 34 21 1...</td>\n",
              "      <td>Sad</td>\n",
              "    </tr>\n",
              "    <tr>\n",
              "      <th>4</th>\n",
              "      <td>6</td>\n",
              "      <td>4 0 0 0 0 0 0 0 0 0 0 0 3 15 23 28 48 50 58 84...</td>\n",
              "      <td>Neutral</td>\n",
              "    </tr>\n",
              "    <tr>\n",
              "      <th>...</th>\n",
              "      <td>...</td>\n",
              "      <td>...</td>\n",
              "      <td>...</td>\n",
              "    </tr>\n",
              "    <tr>\n",
              "      <th>35882</th>\n",
              "      <td>6</td>\n",
              "      <td>50 36 17 22 23 29 33 39 34 37 37 37 39 43 48 5...</td>\n",
              "      <td>Neutral</td>\n",
              "    </tr>\n",
              "    <tr>\n",
              "      <th>35883</th>\n",
              "      <td>3</td>\n",
              "      <td>178 174 172 173 181 188 191 194 196 199 200 20...</td>\n",
              "      <td>Happy</td>\n",
              "    </tr>\n",
              "    <tr>\n",
              "      <th>35884</th>\n",
              "      <td>0</td>\n",
              "      <td>17 17 16 23 28 22 19 17 25 26 20 24 31 19 27 9...</td>\n",
              "      <td>Angry</td>\n",
              "    </tr>\n",
              "    <tr>\n",
              "      <th>35885</th>\n",
              "      <td>3</td>\n",
              "      <td>30 28 28 29 31 30 42 68 79 81 77 67 67 71 63 6...</td>\n",
              "      <td>Happy</td>\n",
              "    </tr>\n",
              "    <tr>\n",
              "      <th>35886</th>\n",
              "      <td>2</td>\n",
              "      <td>19 13 14 12 13 16 21 33 50 57 71 84 97 108 122...</td>\n",
              "      <td>Fear</td>\n",
              "    </tr>\n",
              "  </tbody>\n",
              "</table>\n",
              "<p>35887 rows × 3 columns</p>\n",
              "</div>\n",
              "      <button class=\"colab-df-convert\" onclick=\"convertToInteractive('df-0e310f55-41c3-4e49-83b4-9d53ef1c5935')\"\n",
              "              title=\"Convert this dataframe to an interactive table.\"\n",
              "              style=\"display:none;\">\n",
              "        \n",
              "  <svg xmlns=\"http://www.w3.org/2000/svg\" height=\"24px\"viewBox=\"0 0 24 24\"\n",
              "       width=\"24px\">\n",
              "    <path d=\"M0 0h24v24H0V0z\" fill=\"none\"/>\n",
              "    <path d=\"M18.56 5.44l.94 2.06.94-2.06 2.06-.94-2.06-.94-.94-2.06-.94 2.06-2.06.94zm-11 1L8.5 8.5l.94-2.06 2.06-.94-2.06-.94L8.5 2.5l-.94 2.06-2.06.94zm10 10l.94 2.06.94-2.06 2.06-.94-2.06-.94-.94-2.06-.94 2.06-2.06.94z\"/><path d=\"M17.41 7.96l-1.37-1.37c-.4-.4-.92-.59-1.43-.59-.52 0-1.04.2-1.43.59L10.3 9.45l-7.72 7.72c-.78.78-.78 2.05 0 2.83L4 21.41c.39.39.9.59 1.41.59.51 0 1.02-.2 1.41-.59l7.78-7.78 2.81-2.81c.8-.78.8-2.07 0-2.86zM5.41 20L4 18.59l7.72-7.72 1.47 1.35L5.41 20z\"/>\n",
              "  </svg>\n",
              "      </button>\n",
              "      \n",
              "  <style>\n",
              "    .colab-df-container {\n",
              "      display:flex;\n",
              "      flex-wrap:wrap;\n",
              "      gap: 12px;\n",
              "    }\n",
              "\n",
              "    .colab-df-convert {\n",
              "      background-color: #E8F0FE;\n",
              "      border: none;\n",
              "      border-radius: 50%;\n",
              "      cursor: pointer;\n",
              "      display: none;\n",
              "      fill: #1967D2;\n",
              "      height: 32px;\n",
              "      padding: 0 0 0 0;\n",
              "      width: 32px;\n",
              "    }\n",
              "\n",
              "    .colab-df-convert:hover {\n",
              "      background-color: #E2EBFA;\n",
              "      box-shadow: 0px 1px 2px rgba(60, 64, 67, 0.3), 0px 1px 3px 1px rgba(60, 64, 67, 0.15);\n",
              "      fill: #174EA6;\n",
              "    }\n",
              "\n",
              "    [theme=dark] .colab-df-convert {\n",
              "      background-color: #3B4455;\n",
              "      fill: #D2E3FC;\n",
              "    }\n",
              "\n",
              "    [theme=dark] .colab-df-convert:hover {\n",
              "      background-color: #434B5C;\n",
              "      box-shadow: 0px 1px 3px 1px rgba(0, 0, 0, 0.15);\n",
              "      filter: drop-shadow(0px 1px 2px rgba(0, 0, 0, 0.3));\n",
              "      fill: #FFFFFF;\n",
              "    }\n",
              "  </style>\n",
              "\n",
              "      <script>\n",
              "        const buttonEl =\n",
              "          document.querySelector('#df-0e310f55-41c3-4e49-83b4-9d53ef1c5935 button.colab-df-convert');\n",
              "        buttonEl.style.display =\n",
              "          google.colab.kernel.accessAllowed ? 'block' : 'none';\n",
              "\n",
              "        async function convertToInteractive(key) {\n",
              "          const element = document.querySelector('#df-0e310f55-41c3-4e49-83b4-9d53ef1c5935');\n",
              "          const dataTable =\n",
              "            await google.colab.kernel.invokeFunction('convertToInteractive',\n",
              "                                                     [key], {});\n",
              "          if (!dataTable) return;\n",
              "\n",
              "          const docLinkHtml = 'Like what you see? Visit the ' +\n",
              "            '<a target=\"_blank\" href=https://colab.research.google.com/notebooks/data_table.ipynb>data table notebook</a>'\n",
              "            + ' to learn more about interactive tables.';\n",
              "          element.innerHTML = '';\n",
              "          dataTable['output_type'] = 'display_data';\n",
              "          await google.colab.output.renderOutput(dataTable, element);\n",
              "          const docLink = document.createElement('div');\n",
              "          docLink.innerHTML = docLinkHtml;\n",
              "          element.appendChild(docLink);\n",
              "        }\n",
              "      </script>\n",
              "    </div>\n",
              "  </div>\n",
              "  "
            ],
            "text/plain": [
              "       label                                              image  emotion\n",
              "0          0  70 80 82 72 58 58 60 63 54 58 60 48 89 115 121...    Angry\n",
              "1          0  151 150 147 155 148 133 111 140 170 174 182 15...    Angry\n",
              "2          2  231 212 156 164 174 138 161 173 182 200 106 38...     Fear\n",
              "3          4  24 32 36 30 32 23 19 20 30 41 21 22 32 34 21 1...      Sad\n",
              "4          6  4 0 0 0 0 0 0 0 0 0 0 0 3 15 23 28 48 50 58 84...  Neutral\n",
              "...      ...                                                ...      ...\n",
              "35882      6  50 36 17 22 23 29 33 39 34 37 37 37 39 43 48 5...  Neutral\n",
              "35883      3  178 174 172 173 181 188 191 194 196 199 200 20...    Happy\n",
              "35884      0  17 17 16 23 28 22 19 17 25 26 20 24 31 19 27 9...    Angry\n",
              "35885      3  30 28 28 29 31 30 42 68 79 81 77 67 67 71 63 6...    Happy\n",
              "35886      2  19 13 14 12 13 16 21 33 50 57 71 84 97 108 122...     Fear\n",
              "\n",
              "[35887 rows x 3 columns]"
            ]
          },
          "execution_count": 12,
          "metadata": {},
          "output_type": "execute_result"
        }
      ],
      "source": [
        "data"
      ]
    },
    {
      "cell_type": "code",
      "execution_count": null,
      "metadata": {
        "colab": {
          "base_uri": "https://localhost:8080/",
          "height": 296
        },
        "id": "pawDrU97Y0ma",
        "outputId": "bb175e2a-575f-44eb-e389-00b2f6665a11"
      },
      "outputs": [
        {
          "data": {
            "text/plain": [
              "<matplotlib.axes._subplots.AxesSubplot at 0x7f9882f42ac0>"
            ]
          },
          "execution_count": 13,
          "metadata": {},
          "output_type": "execute_result"
        },
        {
          "data": {
            "image/png": "[encoded data removed]",
            "text/plain": [
              "<Figure size 648x288 with 1 Axes>"
            ]
          },
          "metadata": {
            "needs_background": "light"
          },
          "output_type": "display_data"
        }
      ],
      "source": [
        "import seaborn as sns\n",
        "plt.figure(figsize=(9,4))\n",
        "sns.countplot(x='emotion', data=data)"
      ]
    },
    {
      "cell_type": "code",
      "execution_count": null,
      "metadata": {
        "colab": {
          "base_uri": "https://localhost:8080/"
        },
        "id": "4fEQRHdpY0qp",
        "outputId": "b9470f4c-7e7c-40a5-e555-daaf0b818e81"
      },
      "outputs": [
        {
          "name": "stdout",
          "output_type": "stream",
          "text": [
            "\n",
            "Angry\n",
            "Before sampling: 4953\n",
            "Ater sampling: 5126\n",
            "\n",
            "Disgust\n",
            "Before sampling: 547\n",
            "Ater sampling: 5126\n",
            "\n",
            "Fear\n",
            "Before sampling: 5121\n",
            "Ater sampling: 5126\n",
            "\n",
            "Happy\n",
            "Before sampling: 8989\n",
            "Ater sampling: 5126\n",
            "\n",
            "Sad\n",
            "Before sampling: 6077\n",
            "Ater sampling: 5126\n",
            "\n",
            "Surprise\n",
            "Before sampling: 4002\n",
            "Ater sampling: 5126\n",
            "\n",
            "Neutral\n",
            "Before sampling: 6198\n",
            "Ater sampling: 5126\n"
          ]
        }
      ],
      "source": [
        "m = data.groupby('label').count().mean().values[0]\n",
        "oversampled = pd.DataFrame()\n",
        "for emotion in emotions:\n",
        "    print('\\n' + emotion)\n",
        "    l = len(data[data.emotion==emotion])\n",
        "    print('Before sampling: ' + str(l))\n",
        "    \n",
        "    if (l>=m):\n",
        "        df = data[data.emotion==emotion].sample(int(m))\n",
        "        oversampled = oversampled.append(df)\n",
        "        print('Ater sampling: ' + str(len(df)))\n",
        "    else:\n",
        "        frac = int(m/l)\n",
        "        df = pd.DataFrame()\n",
        "        for i in range(frac+1):\n",
        "            df = df.append(data[data.emotion==emotion])\n",
        "        df = df[df.emotion==emotion].sample(int(m))\n",
        "        oversampled = oversampled.append(df)\n",
        "        print('Ater sampling: ' + str(len(df)))\n",
        "        \n",
        "oversampled = oversampled.sample(frac=1).reset_index().drop(columns=['index'])"
      ]
    },
    {
      "cell_type": "code",
      "execution_count": null,
      "metadata": {
        "id": "OEYzb7ldY0tP"
      },
      "outputs": [],
      "source": [
        "#save the oversampled dataset\n",
        "oversampled.to_csv('metadata_processed.csv', index=False)"
      ]
    },
    {
      "cell_type": "code",
      "execution_count": null,
      "metadata": {
        "id": "jfgDZ4pJY0wl"
      },
      "outputs": [],
      "source": [
        "data = pd.read_csv(\"metadata_processed.csv\")"
      ]
    },
    {
      "cell_type": "code",
      "execution_count": null,
      "metadata": {
        "colab": {
          "base_uri": "https://localhost:8080/",
          "height": 296
        },
        "id": "u3O8rbgQZnvE",
        "outputId": "6dd84037-ef0a-4b6f-b673-7ecf98c50348"
      },
      "outputs": [
        {
          "data": {
            "text/plain": [
              "<matplotlib.axes._subplots.AxesSubplot at 0x7f987a3a0be0>"
            ]
          },
          "execution_count": 19,
          "metadata": {},
          "output_type": "execute_result"
        },
        {
          "data": {
            "image/png": "[encoded data removed]",
            "text/plain": [
              "<Figure size 648x288 with 1 Axes>"
            ]
          },
          "metadata": {
            "needs_background": "light"
          },
          "output_type": "display_data"
        }
      ],
      "source": [
        "plt.figure(figsize=(9,4))\n",
        "sns.countplot(x='emotion', data=data)"
      ]
    },
    {
      "cell_type": "code",
      "execution_count": null,
      "metadata": {
        "colab": {
          "base_uri": "https://localhost:8080/",
          "height": 594
        },
        "id": "bd4js0sOZnxH",
        "outputId": "37cc27c2-e97d-42a8-b0ea-9ed48f332bd9"
      },
      "outputs": [
        {
          "data": {
            "image/png": "[encoded data removed]",
            "text/plain": [
              "<Figure size 720x720 with 9 Axes>"
            ]
          },
          "metadata": {
            "needs_background": "light"
          },
          "output_type": "display_data"
        }
      ],
      "source": [
        "labels = data.iloc[:, 0]\n",
        "pixels = data.iloc[:, 1]\n",
        "images = np.zeros((pixels.shape[0], 48*48))\n",
        "for ix in range(images.shape[0]):\n",
        "    p = pixels[ix].split(' ')\n",
        "    for iy in range(images.shape[1]):\n",
        "        images[ix, iy] = int(p[iy])\n",
        "plt.figure(figsize = (10,10))\n",
        "for index,image in enumerate(images[:9]):\n",
        "    plt.subplot(3,3,index+1)\n",
        "    plt.imshow(image.reshape((48,48)), cmap = 'gray')\n",
        "plt.show()\n",
        "train_or_test = data.iloc[:, 2].values"
      ]
    },
    {
      "cell_type": "code",
      "execution_count": null,
      "metadata": {
        "colab": {
          "base_uri": "https://localhost:8080/"
        },
        "id": "lgHwoP0QZnzX",
        "outputId": "eb913047-f6bb-408b-92ca-59049a656a70"
      },
      "outputs": [
        {
          "data": {
            "text/plain": [
              "array(['Fear', 'Angry', 'Disgust', 'Neutral', 'Sad', 'Happy', 'Surprise'],\n",
              "      dtype=object)"
            ]
          },
          "execution_count": 21,
          "metadata": {},
          "output_type": "execute_result"
        }
      ],
      "source": [
        "data['emotion'].unique()"
      ]
    },
    {
      "cell_type": "code",
      "execution_count": null,
      "metadata": {
        "colab": {
          "base_uri": "https://localhost:8080/"
        },
        "id": "NlJA1q7zZn1s",
        "outputId": "7546454d-1d83-4f62-b073-e813bf18963b"
      },
      "outputs": [
        {
          "data": {
            "text/plain": [
              "(35882, 48, 48, 1)"
            ]
          },
          "execution_count": 22,
          "metadata": {},
          "output_type": "execute_result"
        }
      ],
      "source": [
        "reshaped_images = np.zeros((images.shape[0], 48, 48,1))\n",
        "i = 0\n",
        "for image in images:\n",
        "  reshaped_images[i] = image.reshape((48,48,1))\n",
        "  i+=1\n",
        "reshaped_images.shape"
      ]
    },
    {
      "cell_type": "code",
      "execution_count": null,
      "metadata": {
        "colab": {
          "base_uri": "https://localhost:8080/",
          "height": 267
        },
        "id": "RnJOolSpZn5A",
        "outputId": "6060a0c7-7382-44f2-86cc-d8d1919ecf57"
      },
      "outputs": [
        {
          "data": {
            "image/png": "[encoded data removed]",
            "text/plain": [
              "<Figure size 432x288 with 1 Axes>"
            ]
          },
          "metadata": {
            "needs_background": "light"
          },
          "output_type": "display_data"
        }
      ],
      "source": [
        "norm_images = reshaped_images / 255.0\n",
        "plt.imshow(norm_images[0].reshape((48,48)), cmap=\"gray\")\n",
        "plt.show()"
      ]
    },
    {
      "cell_type": "code",
      "execution_count": null,
      "metadata": {
        "colab": {
          "base_uri": "https://localhost:8080/"
        },
        "id": "eHa4pyyMZ34x",
        "outputId": "7114e9ca-11fa-45e2-a89b-65ffc86d6c32"
      },
      "outputs": [
        {
          "data": {
            "text/plain": [
              "(35882, 7)"
            ]
          },
          "execution_count": 24,
          "metadata": {},
          "output_type": "execute_result"
        }
      ],
      "source": [
        "from tensorflow.keras.utils import to_categorical\n",
        "new_labels = to_categorical(labels, num_classes=7)\n",
        "new_labels.shape"
      ]
    },
    {
      "cell_type": "code",
      "execution_count": null,
      "metadata": {
        "colab": {
          "base_uri": "https://localhost:8080/"
        },
        "id": "mQeuhEwNZ37P",
        "outputId": "61d0f782-9039-4f2a-9c25-05fa60aaeecf"
      },
      "outputs": [
        {
          "data": {
            "text/plain": [
              "(35882, 48, 48, 1)"
            ]
          },
          "execution_count": 25,
          "metadata": {},
          "output_type": "execute_result"
        }
      ],
      "source": [
        "reshaped_images.shape"
      ]
    },
    {
      "cell_type": "code",
      "execution_count": null,
      "metadata": {
        "colab": {
          "base_uri": "https://localhost:8080/"
        },
        "id": "J4DbRaeWZ39k",
        "outputId": "4b06cdb6-83e8-4bc1-c660-617e3def7fcd"
      },
      "outputs": [
        {
          "data": {
            "text/plain": [
              "((28705, 48, 48, 1), (7177, 48, 48, 1), (28705, 7), (7177, 7))"
            ]
          },
          "execution_count": 26,
          "metadata": {},
          "output_type": "execute_result"
        }
      ],
      "source": [
        "from sklearn.model_selection import train_test_split\n",
        "X_train, X_test, y_train, y_test = train_test_split(norm_images, new_labels, test_size=0.2, random_state = 42)\n",
        "X_train.shape, X_test.shape, y_train.shape, y_test.shape"
      ]
    },
    {
      "cell_type": "code",
      "execution_count": null,
      "metadata": {
        "id": "hpatMWqeZ3_p"
      },
      "outputs": [],
      "source": [
        "import tensorflow as tf\n",
        "from tensorflow.keras.layers import Dense, Dropout, Flatten, Conv2D, BatchNormalization, Activation, MaxPooling2D\n",
        "from tensorflow.keras.models import Model, Sequential\n",
        "from tensorflow.keras.optimizers import Adam\n",
        "from tensorflow.keras.callbacks import ModelCheckpoint, ReduceLROnPlateau"
      ]
    },
    {
      "cell_type": "code",
      "execution_count": null,
      "metadata": {
        "colab": {
          "base_uri": "https://localhost:8080/"
        },
        "id": "kN4FP8VgZ4DH",
        "outputId": "2718cc93-d4f7-44b7-bb6f-f40aa7e3f0a3"
      },
      "outputs": [
        {
          "name": "stdout",
          "output_type": "stream",
          "text": [
            "Model: \"sequential\"\n",
            "_________________________________________________________________\n",
            " Layer (type)                Output Shape              Param #   \n",
            "=================================================================\n",
            " conv2d (Conv2D)             (None, 48, 48, 64)        640       \n",
            "                                                                 \n",
            " batch_normalization (BatchN  (None, 48, 48, 64)       256       \n",
            " ormalization)                                                   \n",
            "                                                                 \n",
            " activation (Activation)     (None, 48, 48, 64)        0         \n",
            "                                                                 \n",
            " max_pooling2d (MaxPooling2D  (None, 24, 24, 64)       0         \n",
            " )                                                               \n",
            "                                                                 \n",
            " dropout (Dropout)           (None, 24, 24, 64)        0         \n",
            "                                                                 \n",
            " conv2d_1 (Conv2D)           (None, 24, 24, 128)       204928    \n",
            "                                                                 \n",
            " batch_normalization_1 (Batc  (None, 24, 24, 128)      512       \n",
            " hNormalization)                                                 \n",
            "                                                                 \n",
            " activation_1 (Activation)   (None, 24, 24, 128)       0         \n",
            "                                                                 \n",
            " max_pooling2d_1 (MaxPooling  (None, 12, 12, 128)      0         \n",
            " 2D)                                                             \n",
            "                                                                 \n",
            " dropout_1 (Dropout)         (None, 12, 12, 128)       0         \n",
            "                                                                 \n",
            " conv2d_2 (Conv2D)           (None, 12, 12, 512)       590336    \n",
            "                                                                 \n",
            " batch_normalization_2 (Batc  (None, 12, 12, 512)      2048      \n",
            " hNormalization)                                                 \n",
            "                                                                 \n",
            " activation_2 (Activation)   (None, 12, 12, 512)       0         \n",
            "                                                                 \n",
            " max_pooling2d_2 (MaxPooling  (None, 6, 6, 512)        0         \n",
            " 2D)                                                             \n",
            "                                                                 \n",
            " dropout_2 (Dropout)         (None, 6, 6, 512)         0         \n",
            "                                                                 \n",
            " conv2d_3 (Conv2D)           (None, 6, 6, 512)         2359808   \n",
            "                                                                 \n",
            " batch_normalization_3 (Batc  (None, 6, 6, 512)        2048      \n",
            " hNormalization)                                                 \n",
            "                                                                 \n",
            " activation_3 (Activation)   (None, 6, 6, 512)         0         \n",
            "                                                                 \n",
            " max_pooling2d_3 (MaxPooling  (None, 3, 3, 512)        0         \n",
            " 2D)                                                             \n",
            "                                                                 \n",
            " dropout_3 (Dropout)         (None, 3, 3, 512)         0         \n",
            "                                                                 \n",
            " flatten (Flatten)           (None, 4608)              0         \n",
            "                                                                 \n",
            " dense (Dense)               (None, 256)               1179904   \n",
            "                                                                 \n",
            " batch_normalization_4 (Batc  (None, 256)              1024      \n",
            " hNormalization)                                                 \n",
            "                                                                 \n",
            " activation_4 (Activation)   (None, 256)               0         \n",
            "                                                                 \n",
            " dropout_4 (Dropout)         (None, 256)               0         \n",
            "                                                                 \n",
            " dense_1 (Dense)             (None, 512)               131584    \n",
            "                                                                 \n",
            " batch_normalization_5 (Batc  (None, 512)              2048      \n",
            " hNormalization)                                                 \n",
            "                                                                 \n",
            " activation_5 (Activation)   (None, 512)               0         \n",
            "                                                                 \n"
          ]
        },
        {
          "name": "stderr",
          "output_type": "stream",
          "text": [
            "/usr/local/lib/python3.8/dist-packages/keras/optimizers/optimizer_v2/adam.py:110: UserWarning: The `lr` argument is deprecated, use `learning_rate` instead.\n",
            "  super(Adam, self).__init__(name, **kwargs)\n"
          ]
        },
        {
          "name": "stdout",
          "output_type": "stream",
          "text": [
            " dropout_5 (Dropout)         (None, 512)               0         \n",
            "                                                                 \n",
            " dense_2 (Dense)             (None, 7)                 3591      \n",
            "                                                                 \n",
            "=================================================================\n",
            "Total params: 4,478,727\n",
            "Trainable params: 4,474,759\n",
            "Non-trainable params: 3,968\n",
            "_________________________________________________________________\n"
          ]
        }
      ],
      "source": [
        "#Building up Model Architecture\n",
        "model = Sequential()\n",
        "model.add(Conv2D(64, (3,3), padding = \"same\", input_shape = (48,48,1)))\n",
        "model.add(BatchNormalization())\n",
        "model.add(Activation('relu'))\n",
        "model.add(MaxPooling2D(pool_size = (2,2)))\n",
        "model.add(Dropout(0.25))\n",
        "\n",
        "model.add(Conv2D(128, (5,5), padding = \"same\"))\n",
        "model.add(BatchNormalization())\n",
        "model.add(Activation('relu'))\n",
        "model.add(MaxPooling2D(pool_size = (2,2)))\n",
        "model.add(Dropout(0.25))\n",
        "\n",
        "model.add(Conv2D(512, (3,3), padding = \"same\"))\n",
        "model.add(BatchNormalization())\n",
        "model.add(Activation('relu'))\n",
        "model.add(MaxPooling2D(pool_size = (2,2)))\n",
        "model.add(Dropout(0.25))\n",
        "\n",
        "model.add(Conv2D(512, (3,3), padding = \"same\"))\n",
        "model.add(BatchNormalization())\n",
        "model.add(Activation('relu'))\n",
        "model.add(MaxPooling2D(pool_size = (2,2)))\n",
        "model.add(Dropout(0.25))\n",
        "\n",
        "model.add(Flatten())\n",
        "\n",
        "model.add(Dense(256))\n",
        "model.add(BatchNormalization())\n",
        "model.add(Activation('relu'))\n",
        "model.add(Dropout(0.25))\n",
        "\n",
        "model.add(Dense(512))\n",
        "model.add(BatchNormalization())\n",
        "model.add(Activation('relu'))\n",
        "model.add(Dropout(0.25))\n",
        "\n",
        "model.add(Dense(7, activation = \"softmax\"))\n",
        "\n",
        "opt = Adam(lr = 0.0005)\n",
        "\n",
        "model.compile(optimizer = opt, loss = \"categorical_crossentropy\", metrics = ['accuracy'])\n",
        "model.summary()"
      ]
    },
    {
      "cell_type": "code",
      "execution_count": null,
      "metadata": {
        "colab": {
          "base_uri": "https://localhost:8080/"
        },
        "id": "TsX9IV01aRjW",
        "outputId": "4f3cb5e0-be75-46fa-eb04-0a2e3b1bb5ed"
      },
      "outputs": [
        {
          "name": "stdout",
          "output_type": "stream",
          "text": [
            "Epoch 1/30\n",
            "898/898 [==============================] - ETA: 0s - loss: 1.8752 - accuracy: 0.2863\n",
            "Epoch 1: saving model to fer_model.h5\n",
            "898/898 [==============================] - 18s 20ms/step - loss: 1.8752 - accuracy: 0.2863 - val_loss: 1.5855 - val_accuracy: 0.3985 - lr: 5.0000e-04\n",
            "Epoch 2/30\n",
            "895/898 [============================>.] - ETA: 0s - loss: 1.4563 - accuracy: 0.4462\n",
            "Epoch 2: saving model to fer_model.h5\n",
            "898/898 [==============================] - 19s 21ms/step - loss: 1.4566 - accuracy: 0.4462 - val_loss: 1.2668 - val_accuracy: 0.5218 - lr: 5.0000e-04\n",
            "Epoch 3/30\n",
            "897/898 [============================>.] - ETA: 0s - loss: 1.2495 - accuracy: 0.5275\n",
            "Epoch 3: saving model to fer_model.h5\n",
            "898/898 [==============================] - 18s 20ms/step - loss: 1.2495 - accuracy: 0.5275 - val_loss: 1.1455 - val_accuracy: 0.5654 - lr: 5.0000e-04\n",
            "Epoch 4/30\n",
            "896/898 [============================>.] - ETA: 0s - loss: 1.1335 - accuracy: 0.5702\n",
            "Epoch 4: saving model to fer_model.h5\n",
            "898/898 [==============================] - 18s 20ms/step - loss: 1.1336 - accuracy: 0.5702 - val_loss: 1.1285 - val_accuracy: 0.5688 - lr: 5.0000e-04\n",
            "Epoch 5/30\n",
            "896/898 [============================>.] - ETA: 0s - loss: 1.0496 - accuracy: 0.6050\n",
            "Epoch 5: saving model to fer_model.h5\n",
            "898/898 [==============================] - 18s 20ms/step - loss: 1.0495 - accuracy: 0.6050 - val_loss: 1.0165 - val_accuracy: 0.6127 - lr: 5.0000e-04\n",
            "Epoch 6/30\n",
            "895/898 [============================>.] - ETA: 0s - loss: 0.9923 - accuracy: 0.6241\n",
            "Epoch 6: saving model to fer_model.h5\n",
            "898/898 [==============================] - 18s 20ms/step - loss: 0.9927 - accuracy: 0.6240 - val_loss: 0.9720 - val_accuracy: 0.6271 - lr: 5.0000e-04\n",
            "Epoch 7/30\n",
            "896/898 [============================>.] - ETA: 0s - loss: 0.9273 - accuracy: 0.6507\n",
            "Epoch 7: saving model to fer_model.h5\n",
            "898/898 [==============================] - 18s 20ms/step - loss: 0.9274 - accuracy: 0.6507 - val_loss: 0.9976 - val_accuracy: 0.6246 - lr: 5.0000e-04\n",
            "Epoch 8/30\n",
            "896/898 [============================>.] - ETA: 0s - loss: 0.8746 - accuracy: 0.6718\n",
            "Epoch 8: saving model to fer_model.h5\n",
            "898/898 [==============================] - 18s 20ms/step - loss: 0.8750 - accuracy: 0.6718 - val_loss: 0.9967 - val_accuracy: 0.6284 - lr: 5.0000e-04\n",
            "Epoch 9/30\n",
            "896/898 [============================>.] - ETA: 0s - loss: 0.7413 - accuracy: 0.7229\n",
            "Epoch 9: saving model to fer_model.h5\n",
            "898/898 [==============================] - 19s 21ms/step - loss: 0.7412 - accuracy: 0.7228 - val_loss: 0.8449 - val_accuracy: 0.6790 - lr: 5.0000e-05\n",
            "Epoch 10/30\n",
            "897/898 [============================>.] - ETA: 0s - loss: 0.6997 - accuracy: 0.7400\n",
            "Epoch 10: saving model to fer_model.h5\n",
            "898/898 [==============================] - 18s 20ms/step - loss: 0.6997 - accuracy: 0.7400 - val_loss: 0.8236 - val_accuracy: 0.6925 - lr: 5.0000e-05\n",
            "Epoch 11/30\n",
            "896/898 [============================>.] - ETA: 0s - loss: 0.6738 - accuracy: 0.7482\n",
            "Epoch 11: saving model to fer_model.h5\n",
            "898/898 [==============================] - 19s 21ms/step - loss: 0.6741 - accuracy: 0.7481 - val_loss: 0.8222 - val_accuracy: 0.6949 - lr: 5.0000e-05\n",
            "Epoch 12/30\n",
            "896/898 [============================>.] - ETA: 0s - loss: 0.6514 - accuracy: 0.7574\n",
            "Epoch 12: saving model to fer_model.h5\n",
            "898/898 [==============================] - 19s 21ms/step - loss: 0.6515 - accuracy: 0.7573 - val_loss: 0.8433 - val_accuracy: 0.6908 - lr: 5.0000e-05\n",
            "Epoch 13/30\n",
            "896/898 [============================>.] - ETA: 0s - loss: 0.6385 - accuracy: 0.7652\n",
            "Epoch 13: saving model to fer_model.h5\n",
            "898/898 [==============================] - 18s 20ms/step - loss: 0.6386 - accuracy: 0.7652 - val_loss: 0.8203 - val_accuracy: 0.6967 - lr: 5.0000e-05\n",
            "Epoch 14/30\n",
            "896/898 [============================>.] - ETA: 0s - loss: 0.6119 - accuracy: 0.7718\n",
            "Epoch 14: saving model to fer_model.h5\n",
            "898/898 [==============================] - 19s 21ms/step - loss: 0.6118 - accuracy: 0.7719 - val_loss: 0.8126 - val_accuracy: 0.7059 - lr: 5.0000e-05\n",
            "Epoch 15/30\n",
            "896/898 [============================>.] - ETA: 0s - loss: 0.5957 - accuracy: 0.7780\n",
            "Epoch 15: saving model to fer_model.h5\n",
            "898/898 [==============================] - 18s 20ms/step - loss: 0.5956 - accuracy: 0.7781 - val_loss: 0.8094 - val_accuracy: 0.7060 - lr: 5.0000e-05\n",
            "Epoch 16/30\n",
            "895/898 [============================>.] - ETA: 0s - loss: 0.5805 - accuracy: 0.7853\n",
            "Epoch 16: saving model to fer_model.h5\n",
            "898/898 [==============================] - 18s 20ms/step - loss: 0.5806 - accuracy: 0.7851 - val_loss: 0.8110 - val_accuracy: 0.7053 - lr: 5.0000e-05\n",
            "Epoch 17/30\n",
            "898/898 [==============================] - ETA: 0s - loss: 0.5679 - accuracy: 0.7886\n",
            "Epoch 17: saving model to fer_model.h5\n",
            "898/898 [==============================] - 18s 20ms/step - loss: 0.5679 - accuracy: 0.7886 - val_loss: 0.8068 - val_accuracy: 0.7139 - lr: 5.0000e-05\n",
            "Epoch 18/30\n",
            "897/898 [============================>.] - ETA: 0s - loss: 0.5477 - accuracy: 0.7948\n",
            "Epoch 18: saving model to fer_model.h5\n",
            "898/898 [==============================] - 19s 21ms/step - loss: 0.5478 - accuracy: 0.7948 - val_loss: 0.8147 - val_accuracy: 0.7166 - lr: 5.0000e-05\n",
            "Epoch 19/30\n",
            "896/898 [============================>.] - ETA: 0s - loss: 0.5378 - accuracy: 0.7994\n",
            "Epoch 19: saving model to fer_model.h5\n",
            "898/898 [==============================] - 18s 20ms/step - loss: 0.5378 - accuracy: 0.7994 - val_loss: 0.8152 - val_accuracy: 0.7156 - lr: 5.0000e-05\n",
            "Epoch 20/30\n",
            "897/898 [============================>.] - ETA: 0s - loss: 0.5154 - accuracy: 0.8088\n",
            "Epoch 20: saving model to fer_model.h5\n",
            "898/898 [==============================] - 18s 20ms/step - loss: 0.5154 - accuracy: 0.8088 - val_loss: 0.8106 - val_accuracy: 0.7197 - lr: 1.0000e-05\n",
            "Epoch 21/30\n",
            "896/898 [============================>.] - ETA: 0s - loss: 0.5148 - accuracy: 0.8103\n",
            "Epoch 21: saving model to fer_model.h5\n",
            "898/898 [==============================] - 18s 20ms/step - loss: 0.5147 - accuracy: 0.8103 - val_loss: 0.8038 - val_accuracy: 0.7224 - lr: 1.0000e-05\n",
            "Epoch 22/30\n",
            "897/898 [============================>.] - ETA: 0s - loss: 0.5132 - accuracy: 0.8126\n",
            "Epoch 22: saving model to fer_model.h5\n",
            "898/898 [==============================] - 18s 20ms/step - loss: 0.5132 - accuracy: 0.8126 - val_loss: 0.8059 - val_accuracy: 0.7240 - lr: 1.0000e-05\n",
            "Epoch 23/30\n",
            "896/898 [============================>.] - ETA: 0s - loss: 0.5182 - accuracy: 0.8082\n",
            "Epoch 23: saving model to fer_model.h5\n",
            "898/898 [==============================] - 18s 20ms/step - loss: 0.5180 - accuracy: 0.8083 - val_loss: 0.8046 - val_accuracy: 0.7226 - lr: 1.0000e-05\n",
            "Epoch 24/30\n",
            "895/898 [============================>.] - ETA: 0s - loss: 0.5069 - accuracy: 0.8135\n",
            "Epoch 24: saving model to fer_model.h5\n",
            "898/898 [==============================] - 18s 20ms/step - loss: 0.5066 - accuracy: 0.8137 - val_loss: 0.8025 - val_accuracy: 0.7247 - lr: 1.0000e-05\n",
            "Epoch 25/30\n",
            "898/898 [==============================] - ETA: 0s - loss: 0.5017 - accuracy: 0.8150\n",
            "Epoch 25: saving model to fer_model.h5\n",
            "898/898 [==============================] - 17s 19ms/step - loss: 0.5017 - accuracy: 0.8150 - val_loss: 0.8056 - val_accuracy: 0.7227 - lr: 1.0000e-05\n",
            "Epoch 26/30\n",
            "897/898 [============================>.] - ETA: 0s - loss: 0.5038 - accuracy: 0.8155\n",
            "Epoch 26: saving model to fer_model.h5\n",
            "898/898 [==============================] - 18s 20ms/step - loss: 0.5039 - accuracy: 0.8154 - val_loss: 0.8031 - val_accuracy: 0.7255 - lr: 1.0000e-05\n",
            "Epoch 27/30\n",
            "896/898 [============================>.] - ETA: 0s - loss: 0.5009 - accuracy: 0.8156\n",
            "Epoch 27: saving model to fer_model.h5\n",
            "898/898 [==============================] - 19s 21ms/step - loss: 0.5010 - accuracy: 0.8155 - val_loss: 0.8058 - val_accuracy: 0.7237 - lr: 1.0000e-05\n",
            "Epoch 28/30\n",
            "895/898 [============================>.] - ETA: 0s - loss: 0.4935 - accuracy: 0.8169\n",
            "Epoch 28: saving model to fer_model.h5\n",
            "898/898 [==============================] - 18s 20ms/step - loss: 0.4935 - accuracy: 0.8170 - val_loss: 0.8059 - val_accuracy: 0.7247 - lr: 1.0000e-05\n",
            "Epoch 29/30\n",
            "897/898 [============================>.] - ETA: 0s - loss: 0.4853 - accuracy: 0.8224\n",
            "Epoch 29: saving model to fer_model.h5\n",
            "898/898 [==============================] - 18s 20ms/step - loss: 0.4853 - accuracy: 0.8224 - val_loss: 0.8052 - val_accuracy: 0.7222 - lr: 1.0000e-05\n",
            "Epoch 30/30\n",
            "896/898 [============================>.] - ETA: 0s - loss: 0.4922 - accuracy: 0.8182\n",
            "Epoch 30: saving model to fer_model.h5\n",
            "898/898 [==============================] - 18s 20ms/step - loss: 0.4923 - accuracy: 0.8183 - val_loss: 0.8038 - val_accuracy: 0.7243 - lr: 1.0000e-05\n"
          ]
        }
      ],
      "source": [
        "epochs = 30\n",
        "\n",
        "reduce_lr = ReduceLROnPlateau(monitor='val_loss', factor=0.1,\n",
        "                              patience=2, min_lr=0.00001, mode='auto')\n",
        "\n",
        "checkpoint = ModelCheckpoint(\"fer_model.h5\", monitor='val_loss', \n",
        "                             mode='max', verbose=1)\n",
        "\n",
        "callbacks = [checkpoint, reduce_lr]\n",
        "\n",
        "history = model.fit(X_train, y_train, validation_data=(X_test, y_test), callbacks=callbacks, epochs = epochs)"
      ]
    },
    {
      "cell_type": "code",
      "execution_count": null,
      "metadata": {
        "colab": {
          "base_uri": "https://localhost:8080/"
        },
        "id": "uy-DTzM-adPz",
        "outputId": "fa5a781d-9c59-4f54-f95b-9c6c4633da06"
      },
      "outputs": [
        {
          "name": "stdout",
          "output_type": "stream",
          "text": [
            "dict_values(['😠', '🤢', '😨', '😊', '😥', '😲', '😐'])\n"
          ]
        }
      ],
      "source": [
        "emotion_dict = {0: \"Angry\", 1: \"Disgusted\", 2: \"Fearful\", 3: \"Happy\", 4: \"Sad\", 5: \"Surprised\", 6: \"Neutral\"}\n",
        "\n",
        "  #emojis unicodes #\n",
        "emojis = { 0:\"\\U0001f620\",1:\"\\U0001f922\" ,2:\"\\U0001f628\" ,3:\"\\U0001f60A\" , 4:\"\\U0001f625\" ,5:\"\\U0001f632\",6:\"\\U0001f610\" }\n",
        "print(emojis.values(),sep=\" \")"
      ]
    },
    {
      "cell_type": "code",
      "execution_count": null,
      "metadata": {
        "id": "b4fHCkHTadR-"
      },
      "outputs": [],
      "source": [
        "import cv2\n",
        "from PIL import Image\n",
        "from matplotlib import pyplot as plt \n",
        "def _predict(path):\n",
        "  facecasc = cv2.CascadeClassifier(cv2.data.haarcascades +'haarcascade_frontalface_default.xml')\n",
        "  imagePath = path\n",
        "  image = cv2.imread(imagePath)\n",
        "  gray = cv2.cvtColor(image, cv2.COLOR_BGR2GRAY)\n",
        "  faces = facecasc.detectMultiScale(gray,scaleFactor=1.3, minNeighbors=10)\n",
        "  print(\"No of faces : \",len(faces))\n",
        "  i = 1\n",
        "  for (x, y, w, h) in faces:\n",
        "    cv2.rectangle(image, (x, y), (x+w, y+h), (0, 255, 0), 2)\n",
        "    roi_gray = gray[y:y + h, x:x + w]                      #croping\n",
        "    cropped_img = np.expand_dims(np.expand_dims(cv2.resize(roi_gray, (48, 48)), -1), 0)\n",
        "    prediction = model.predict(cropped_img)\n",
        "    maxindex = int(np.argmax(prediction))\n",
        "    print(\"person \",i,\" : \",emotion_dict[maxindex], \"-->\",emojis[maxindex])\n",
        "    cv2.putText(image, emotion_dict[maxindex], (x+10, y-20), cv2.FONT_HERSHEY_SIMPLEX, 0.7, (255, 255, 255), 2)  \n",
        "                                             \n",
        "    plt.imshow(image)\n",
        "    plt.show()"
      ]
    },
    {
      "cell_type": "code",
      "execution_count": null,
      "metadata": {
        "colab": {
          "base_uri": "https://localhost:8080/"
        },
        "id": "Qi7HS4Vfl6DK",
        "outputId": "0e1e0a28-162d-4f47-f12a-281481f6f445"
      },
      "outputs": [
        {
          "name": "stdout",
          "output_type": "stream",
          "text": [
            "225/225 [==============================] - 1s 5ms/step\n",
            "CNN Model Accuracy on test set: 0.7243\n"
          ]
        }
      ],
      "source": [
        "from sklearn.metrics import accuracy_score\n",
        "test_true = np.argmax(y_test, axis=1)\n",
        "test_pred = np.argmax(model.predict(X_test), axis=1)\n",
        "print(\"CNN Model Accuracy on test set: {:.4f}\".format(accuracy_score(test_true, test_pred)))"
      ]
    },
    {
      "cell_type": "code",
      "execution_count": null,
      "metadata": {
        "id": "ch82ytoNYjWE"
      },
      "outputs": [],
      "source": [
        "def plot_confusion_matrix(y_true, y_pred, classes,\n",
        "                          normalize=False,\n",
        "                          title=None,\n",
        "                          cmap=plt.cm.Blues):\n",
        "    if not title:\n",
        "        if normalize:\n",
        "            title = 'Normalized confusion matrix'\n",
        "        else:\n",
        "            title = 'Confusion matrix, without normalization'\n",
        "\n",
        "    cm = confusion_matrix(y_true, y_pred)\n",
        "    classes = classes\n",
        "    if normalize:\n",
        "        cm = cm.astype('float') / cm.sum(axis=1)[:, np.newaxis]\n",
        "    fig, ax = plt.subplots(figsize=(12,6))\n",
        "    im = ax.imshow(cm, interpolation='nearest', cmap=cmap)\n",
        "    ax.figure.colorbar(im, ax=ax)\n",
        "    ax.set(xticks=np.arange(cm.shape[1]),\n",
        "           yticks=np.arange(cm.shape[0]),\n",
        "           xticklabels=classes, yticklabels=classes,\n",
        "           title=title,\n",
        "           ylabel='True label',\n",
        "           xlabel='Predicted label')\n",
        "\n",
        "    plt.setp(ax.get_xticklabels(), rotation=45, ha=\"right\",\n",
        "             rotation_mode=\"anchor\")\n",
        "\n",
        "    fmt = '.2f' if normalize else 'd'\n",
        "    thresh = cm.max() / 2.\n",
        "    for i in range(cm.shape[0]):\n",
        "        for j in range(cm.shape[1]):\n",
        "            ax.text(j, i, format(cm[i, j], fmt),\n",
        "                    ha=\"center\", va=\"center\",\n",
        "                    color=\"white\" if cm[i, j] > thresh else \"black\")\n",
        "    fig.tight_layout()\n",
        "    return ax"
      ]
    },
    {
      "cell_type": "code",
      "execution_count": null,
      "metadata": {
        "colab": {
          "base_uri": "https://localhost:8080/",
          "height": 441
        },
        "id": "STOGaWukl6DL",
        "outputId": "95cf20f7-a1cd-429f-8edf-49fdeb9471f4"
      },
      "outputs": [
        {
          "data": {
            "image/png": "[encoded data removed]",
            "text/plain": [
              "<Figure size 864x432 with 2 Axes>"
            ]
          },
          "metadata": {
            "needs_background": "light"
          },
          "output_type": "display_data"
        }
      ],
      "source": [
        "\n",
        "from sklearn.metrics import classification_report, confusion_matrix\n",
        "emotion_labels = ['Angry', 'Disgust', 'Fear', 'Happy', 'Sad', 'Surprise', 'Neutral']\n",
        "\n",
        "plot_confusion_matrix(test_true, test_pred, classes=emotion_labels, normalize=True, title='Normalized confusion matrix')\n",
        "plt.show()"
      ]
    },
    {
      "cell_type": "code",
      "execution_count": null,
      "metadata": {
        "colab": {
          "base_uri": "https://localhost:8080/"
        },
        "id": "6tKSrcbEl6DL",
        "outputId": "ede63b0d-faa5-4e24-fadd-c205ec46acdc"
      },
      "outputs": [
        {
          "name": "stdout",
          "output_type": "stream",
          "text": [
            "225/225 [==============================] - 2s 9ms/step\n",
            "              precision    recall  f1-score   support\n",
            "\n",
            "           0       0.69      0.65      0.67      1003\n",
            "           1       0.96      1.00      0.98      1031\n",
            "           2       0.69      0.56      0.62      1026\n",
            "           3       0.79      0.80      0.79      1018\n",
            "           4       0.50      0.51      0.51      1029\n",
            "           5       0.86      0.91      0.89      1041\n",
            "           6       0.57      0.63      0.60      1029\n",
            "\n",
            "    accuracy                           0.72      7177\n",
            "   macro avg       0.72      0.72      0.72      7177\n",
            "weighted avg       0.72      0.72      0.72      7177\n",
            "\n"
          ]
        }
      ],
      "source": [
        "y_pred=model.predict(X_test) \n",
        "y_pred=np.argmax(y_pred, axis=1)\n",
        "# y_test=np.argmax(y_test, axis=1)\n",
        "print(classification_report(y_test, y_pred))"
      ]
    },
    {
      "cell_type": "code",
      "execution_count": null,
      "metadata": {
        "id": "x9-5qpqboG35"
      },
      "outputs": [],
      "source": []
    }
  ],
  "metadata": {
    "accelerator": "GPU",
    "colab": {
      "provenance": []
    },
    "gpuClass": "standard",
    "kernelspec": {
      "display_name": "Python 3",
      "language": "python",
      "name": "python3"
    },
    "language_info": {
      "codemirror_mode": {
        "name": "ipython",
        "version": 3
      },
      "file_extension": ".py",
      "mimetype": "text/x-python",
      "name": "python",
      "nbconvert_exporter": "python",
      "pygments_lexer": "ipython3",
      "version": "3.11.2"
    },
    "orig_nbformat": 4,
    "vscode": {
      "interpreter": {
        "hash": "5be4cf258dcb907ac45d1d278d4fee71be90d70df4e7e0d3bb7592e18519ca91"
      }
    }
  },
  "nbformat": 4,
  "nbformat_minor": 0
}
